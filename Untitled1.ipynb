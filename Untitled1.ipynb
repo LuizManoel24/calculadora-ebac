{
  "nbformat": 4,
  "nbformat_minor": 0,
  "metadata": {
    "colab": {
      "provenance": []
    },
    "kernelspec": {
      "name": "python3",
      "display_name": "Python 3"
    },
    "language_info": {
      "name": "python"
    }
  },
  "cells": [
    {
      "cell_type": "code",
      "source": [
        "nome = input(\"qual é o seu nome?\\n \")\n",
        "\n",
        "print(f\"Seja bem-vindo,{nome}! vamos começar a calculadora.\\n\")\n",
        "\n",
        "print(\"Escolha a operação desejada:\")\n",
        "print(\"1 - Adição (+)\")\n",
        "print(\"2 - Subitração (-)\")\n",
        "print(\"3 - Multiplicação (*)\")\n",
        "print(\"4 - Divisão (/)\")\n",
        "\n",
        "operacao = input(\"Digite o número da operação desejada: \")\n",
        "\n",
        "if operacao not in ('1', '2', '3', '4'):\n",
        "  print(\"operação inválida! por favor, escolha um número entre 1 e 4.\")\n",
        "else:\n",
        "    num1 = float(input (\"Digite o primeiro número: \"))\n",
        "    num2 = float(input (\"Digite o segundo número: \"))\n",
        "\n",
        "    if operacao == '1':\n",
        "        resultado = num1 + num2\n",
        "        print(f\"o resultado da adição é: {resultado}\")\n",
        "\n",
        "    elif operacao == '2':\n",
        "        resultado = num1 - num2\n",
        "        print(f\"O resultado da subtração é: {resultado}\")\n",
        "\n",
        "    elif operacao == '3':\n",
        "        resultado = num1 * num2\n",
        "        print(f\"O resultado da multiplicação é: {resultado}\")\n",
        "\n",
        "    elif operacao == '4':\n",
        "        if num2 != 0:\n",
        "          resultado = num1 / num2\n",
        "          print(f\"O resultado da divisão é: {resultado}\")\n",
        "        else:\n",
        "              print(f\"Erro: divisão por zero não é permitida.\\n\")\n",
        "\n",
        "\n",
        "print(f\"Obrigado por usar a calculadora do LM, volte sempre!\\n\")"
      ],
      "metadata": {
        "colab": {
          "base_uri": "https://localhost:8080/"
        },
        "id": "rSDvNwLKuD8K",
        "outputId": "4ee1f302-8d0f-490a-ad06-f125db91e6e6"
      },
      "execution_count": 37,
      "outputs": [
        {
          "output_type": "stream",
          "name": "stdout",
          "text": [
            "qual é o seu nome?\n",
            " luiz\n",
            "Seja bem-vindo,luiz! vamos começar a calculadora.\n",
            "\n",
            "Escolha a operação desejada:\n",
            "1 - Adição (+)\n",
            "2 - Subitração (-)\n",
            "3 - Multiplicação (*)\n",
            "4 - Divisão (/)\n",
            "Digite o número da operação desejada: 5\n",
            "operação inválida! por favor, escolha um número entre 1 e 4.\n",
            "Obrigado por usar a calculadora do LM, volte sempre!\n",
            "\n"
          ]
        }
      ]
    }
  ]
}